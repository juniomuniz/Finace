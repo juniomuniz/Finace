{
  "nbformat": 4,
  "nbformat_minor": 5,
  "metadata": {
    "kernelspec": {
      "display_name": "Python 3",
      "language": "python",
      "name": "python3"
    },
    "language_info": {
      "codemirror_mode": {
        "name": "ipython",
        "version": 3
      },
      "file_extension": ".py",
      "mimetype": "text/x-python",
      "name": "python",
      "nbconvert_exporter": "python",
      "pygments_lexer": "ipython3",
      "version": "3.8.8"
    },
    "colab": {
      "name": "YFinance1.ipynb",
      "provenance": [],
      "include_colab_link": true
    }
  },
  "cells": [
    {
      "cell_type": "markdown",
      "metadata": {
        "id": "view-in-github",
        "colab_type": "text"
      },
      "source": [
        "<a href=\"https://colab.research.google.com/github/juniomuniz/Finace/blob/main/YFinance1.ipynb\" target=\"_parent\"><img src=\"https://colab.research.google.com/assets/colab-badge.svg\" alt=\"Open In Colab\"/></a>"
      ]
    },
    {
      "cell_type": "markdown",
      "metadata": {
        "id": "f4014af9"
      },
      "source": [
        "# Importaçoes "
      ],
      "id": "f4014af9"
    },
    {
      "cell_type": "code",
      "metadata": {
        "collapsed": true,
        "id": "b6eabc7a",
        "outputId": "07e90914-917f-460d-beb9-5bc9bdefbef3"
      },
      "source": [
        "import pandas as pd \n",
        "import numpy as np\n",
        "import matplotlib.pyplot as plt \n",
        "%matplotlib inline \n",
        "!pip install pandas-datareader\n",
        "import pandas_datareader.data as web \n",
        "!pip install yfinance --upgrade --no-cache-dir\n",
        "import yfinance as yf\n",
        "yf.pdr_override()"
      ],
      "id": "b6eabc7a",
      "execution_count": null,
      "outputs": [
        {
          "name": "stdout",
          "output_type": "stream",
          "text": [
            "Requirement already satisfied: pandas-datareader in d:\\python\\lib\\site-packages (0.10.0)\n",
            "Requirement already satisfied: requests>=2.19.0 in d:\\python\\lib\\site-packages (from pandas-datareader) (2.25.1)\n",
            "Requirement already satisfied: pandas>=0.23 in d:\\python\\lib\\site-packages (from pandas-datareader) (1.2.4)\n",
            "Requirement already satisfied: lxml in d:\\python\\lib\\site-packages (from pandas-datareader) (4.6.3)\n",
            "Requirement already satisfied: pytz>=2017.3 in d:\\python\\lib\\site-packages (from pandas>=0.23->pandas-datareader) (2021.1)\n",
            "Requirement already satisfied: python-dateutil>=2.7.3 in d:\\python\\lib\\site-packages (from pandas>=0.23->pandas-datareader) (2.8.1)\n",
            "Requirement already satisfied: numpy>=1.16.5 in d:\\python\\lib\\site-packages (from pandas>=0.23->pandas-datareader) (1.20.1)\n",
            "Requirement already satisfied: six>=1.5 in d:\\python\\lib\\site-packages (from python-dateutil>=2.7.3->pandas>=0.23->pandas-datareader) (1.15.0)\n",
            "Requirement already satisfied: urllib3<1.27,>=1.21.1 in d:\\python\\lib\\site-packages (from requests>=2.19.0->pandas-datareader) (1.26.4)\n",
            "Requirement already satisfied: idna<3,>=2.5 in d:\\python\\lib\\site-packages (from requests>=2.19.0->pandas-datareader) (2.10)\n",
            "Requirement already satisfied: chardet<5,>=3.0.2 in d:\\python\\lib\\site-packages (from requests>=2.19.0->pandas-datareader) (4.0.0)\n",
            "Requirement already satisfied: certifi>=2017.4.17 in d:\\python\\lib\\site-packages (from requests>=2.19.0->pandas-datareader) (2020.12.5)\n",
            "Collecting yfinance\n",
            "  Downloading yfinance-0.1.63.tar.gz (26 kB)\n",
            "Requirement already satisfied: pandas>=0.24 in d:\\python\\lib\\site-packages (from yfinance) (1.2.4)\n",
            "Requirement already satisfied: numpy>=1.15 in d:\\python\\lib\\site-packages (from yfinance) (1.20.1)\n",
            "Requirement already satisfied: requests>=2.20 in d:\\python\\lib\\site-packages (from yfinance) (2.25.1)\n",
            "Collecting multitasking>=0.0.7\n",
            "  Downloading multitasking-0.0.9.tar.gz (8.1 kB)\n",
            "Requirement already satisfied: lxml>=4.5.1 in d:\\python\\lib\\site-packages (from yfinance) (4.6.3)\n",
            "Requirement already satisfied: python-dateutil>=2.7.3 in d:\\python\\lib\\site-packages (from pandas>=0.24->yfinance) (2.8.1)\n",
            "Requirement already satisfied: pytz>=2017.3 in d:\\python\\lib\\site-packages (from pandas>=0.24->yfinance) (2021.1)\n",
            "Requirement already satisfied: six>=1.5 in d:\\python\\lib\\site-packages (from python-dateutil>=2.7.3->pandas>=0.24->yfinance) (1.15.0)\n",
            "Requirement already satisfied: chardet<5,>=3.0.2 in d:\\python\\lib\\site-packages (from requests>=2.20->yfinance) (4.0.0)\n",
            "Requirement already satisfied: idna<3,>=2.5 in d:\\python\\lib\\site-packages (from requests>=2.20->yfinance) (2.10)\n",
            "Requirement already satisfied: certifi>=2017.4.17 in d:\\python\\lib\\site-packages (from requests>=2.20->yfinance) (2020.12.5)\n",
            "Requirement already satisfied: urllib3<1.27,>=1.21.1 in d:\\python\\lib\\site-packages (from requests>=2.20->yfinance) (1.26.4)\n",
            "Building wheels for collected packages: yfinance, multitasking\n",
            "  Building wheel for yfinance (setup.py): started\n",
            "  Building wheel for yfinance (setup.py): finished with status 'done'\n",
            "  Created wheel for yfinance: filename=yfinance-0.1.63-py2.py3-none-any.whl size=23909 sha256=37256b376ac6d396bde0769a660b2f8969033c79f445f13518853caaf4d685fb\n",
            "  Stored in directory: C:\\Users\\junio\\AppData\\Local\\Temp\\pip-ephem-wheel-cache-8anu86vu\\wheels\\ec\\cc\\c1\\32da8ee853d742d5d7cbd11ee04421222eb354672020b57297\n",
            "  Building wheel for multitasking (setup.py): started\n",
            "  Building wheel for multitasking (setup.py): finished with status 'done'\n",
            "  Created wheel for multitasking: filename=multitasking-0.0.9-py3-none-any.whl size=8368 sha256=301ccaa188085d765374a9971ca81bc0ca6595b2fdad3bbb29dc169365281c3d\n",
            "  Stored in directory: C:\\Users\\junio\\AppData\\Local\\Temp\\pip-ephem-wheel-cache-8anu86vu\\wheels\\57\\6d\\a3\\a39b839cc75274d2acfb1c58bfead2f726c6577fe8c4723f13\n",
            "Successfully built yfinance multitasking\n",
            "Installing collected packages: multitasking, yfinance\n",
            "Successfully installed multitasking-0.0.9 yfinance-0.1.63\n"
          ]
        }
      ]
    },
    {
      "cell_type": "markdown",
      "metadata": {
        "id": "b9e8538c"
      },
      "source": [
        "# Obtençao de Dados "
      ],
      "id": "b9e8538c"
    },
    {
      "cell_type": "code",
      "metadata": {
        "colab": {
          "base_uri": "https://localhost:8080/",
          "height": 162
        },
        "id": "27bb0442",
        "outputId": "f6bd3a63-c798-416c-a63f-b084890d2a44"
      },
      "source": [
        "ibov = web.get_data_yahoo('^BVSP')"
      ],
      "id": "27bb0442",
      "execution_count": 2,
      "outputs": [
        {
          "output_type": "error",
          "ename": "NameError",
          "evalue": "ignored",
          "traceback": [
            "\u001b[0;31m---------------------------------------------------------------------------\u001b[0m",
            "\u001b[0;31mNameError\u001b[0m                                 Traceback (most recent call last)",
            "\u001b[0;32m<ipython-input-2-c29ed8215745>\u001b[0m in \u001b[0;36m<module>\u001b[0;34m()\u001b[0m\n\u001b[0;32m----> 1\u001b[0;31m \u001b[0mibov\u001b[0m \u001b[0;34m=\u001b[0m \u001b[0mweb\u001b[0m\u001b[0;34m.\u001b[0m\u001b[0mget_data_yahoo\u001b[0m\u001b[0;34m(\u001b[0m\u001b[0;34m'^BVSP'\u001b[0m\u001b[0;34m)\u001b[0m\u001b[0;34m\u001b[0m\u001b[0;34m\u001b[0m\u001b[0m\n\u001b[0m",
            "\u001b[0;31mNameError\u001b[0m: name 'web' is not defined"
          ]
        }
      ]
    },
    {
      "cell_type": "code",
      "metadata": {
        "id": "7c3e607b",
        "outputId": "3c350470-8b96-48dc-eccb-b8095bcadfcd"
      },
      "source": [
        "ibov.head()"
      ],
      "id": "7c3e607b",
      "execution_count": null,
      "outputs": [
        {
          "data": {
            "text/html": [
              "<div>\n",
              "<style scoped>\n",
              "    .dataframe tbody tr th:only-of-type {\n",
              "        vertical-align: middle;\n",
              "    }\n",
              "\n",
              "    .dataframe tbody tr th {\n",
              "        vertical-align: top;\n",
              "    }\n",
              "\n",
              "    .dataframe thead th {\n",
              "        text-align: right;\n",
              "    }\n",
              "</style>\n",
              "<table border=\"1\" class=\"dataframe\">\n",
              "  <thead>\n",
              "    <tr style=\"text-align: right;\">\n",
              "      <th></th>\n",
              "      <th>Open</th>\n",
              "      <th>High</th>\n",
              "      <th>Low</th>\n",
              "      <th>Close</th>\n",
              "      <th>Adj Close</th>\n",
              "      <th>Volume</th>\n",
              "    </tr>\n",
              "    <tr>\n",
              "      <th>Date</th>\n",
              "      <th></th>\n",
              "      <th></th>\n",
              "      <th></th>\n",
              "      <th></th>\n",
              "      <th></th>\n",
              "      <th></th>\n",
              "    </tr>\n",
              "  </thead>\n",
              "  <tbody>\n",
              "    <tr>\n",
              "      <th>1993-04-27</th>\n",
              "      <td>24.799999</td>\n",
              "      <td>25.400000</td>\n",
              "      <td>24.500000</td>\n",
              "      <td>24.500000</td>\n",
              "      <td>24.500000</td>\n",
              "      <td>0</td>\n",
              "    </tr>\n",
              "    <tr>\n",
              "      <th>1993-04-28</th>\n",
              "      <td>24.500000</td>\n",
              "      <td>24.600000</td>\n",
              "      <td>23.700001</td>\n",
              "      <td>24.299999</td>\n",
              "      <td>24.299999</td>\n",
              "      <td>0</td>\n",
              "    </tr>\n",
              "    <tr>\n",
              "      <th>1993-04-29</th>\n",
              "      <td>24.299999</td>\n",
              "      <td>24.799999</td>\n",
              "      <td>23.700001</td>\n",
              "      <td>23.700001</td>\n",
              "      <td>23.700001</td>\n",
              "      <td>0</td>\n",
              "    </tr>\n",
              "    <tr>\n",
              "      <th>1993-04-30</th>\n",
              "      <td>23.700001</td>\n",
              "      <td>24.200001</td>\n",
              "      <td>23.700001</td>\n",
              "      <td>24.100000</td>\n",
              "      <td>24.100000</td>\n",
              "      <td>0</td>\n",
              "    </tr>\n",
              "    <tr>\n",
              "      <th>1993-05-03</th>\n",
              "      <td>24.100000</td>\n",
              "      <td>24.400000</td>\n",
              "      <td>23.799999</td>\n",
              "      <td>24.100000</td>\n",
              "      <td>24.100000</td>\n",
              "      <td>0</td>\n",
              "    </tr>\n",
              "  </tbody>\n",
              "</table>\n",
              "</div>"
            ],
            "text/plain": [
              "                 Open       High        Low      Close  Adj Close  Volume\n",
              "Date                                                                     \n",
              "1993-04-27  24.799999  25.400000  24.500000  24.500000  24.500000       0\n",
              "1993-04-28  24.500000  24.600000  23.700001  24.299999  24.299999       0\n",
              "1993-04-29  24.299999  24.799999  23.700001  23.700001  23.700001       0\n",
              "1993-04-30  23.700001  24.200001  23.700001  24.100000  24.100000       0\n",
              "1993-05-03  24.100000  24.400000  23.799999  24.100000  24.100000       0"
            ]
          },
          "execution_count": 8,
          "metadata": {},
          "output_type": "execute_result"
        }
      ]
    },
    {
      "cell_type": "code",
      "metadata": {
        "id": "f0fbe0a8",
        "outputId": "181a5535-a628-4c4e-e392-33b9f031f4a5"
      },
      "source": [
        "ibov.tail()"
      ],
      "id": "f0fbe0a8",
      "execution_count": null,
      "outputs": [
        {
          "data": {
            "text/html": [
              "<div>\n",
              "<style scoped>\n",
              "    .dataframe tbody tr th:only-of-type {\n",
              "        vertical-align: middle;\n",
              "    }\n",
              "\n",
              "    .dataframe tbody tr th {\n",
              "        vertical-align: top;\n",
              "    }\n",
              "\n",
              "    .dataframe thead th {\n",
              "        text-align: right;\n",
              "    }\n",
              "</style>\n",
              "<table border=\"1\" class=\"dataframe\">\n",
              "  <thead>\n",
              "    <tr style=\"text-align: right;\">\n",
              "      <th></th>\n",
              "      <th>Open</th>\n",
              "      <th>High</th>\n",
              "      <th>Low</th>\n",
              "      <th>Close</th>\n",
              "      <th>Adj Close</th>\n",
              "      <th>Volume</th>\n",
              "    </tr>\n",
              "    <tr>\n",
              "      <th>Date</th>\n",
              "      <th></th>\n",
              "      <th></th>\n",
              "      <th></th>\n",
              "      <th></th>\n",
              "      <th></th>\n",
              "      <th></th>\n",
              "    </tr>\n",
              "  </thead>\n",
              "  <tbody>\n",
              "    <tr>\n",
              "      <th>2021-08-03</th>\n",
              "      <td>122516.000000</td>\n",
              "      <td>123765.000000</td>\n",
              "      <td>120807.00000</td>\n",
              "      <td>123577.000000</td>\n",
              "      <td>123577.000000</td>\n",
              "      <td>9391300</td>\n",
              "    </tr>\n",
              "    <tr>\n",
              "      <th>2021-08-04</th>\n",
              "      <td>123577.000000</td>\n",
              "      <td>123587.000000</td>\n",
              "      <td>121072.00000</td>\n",
              "      <td>121801.000000</td>\n",
              "      <td>121801.000000</td>\n",
              "      <td>9164200</td>\n",
              "    </tr>\n",
              "    <tr>\n",
              "      <th>2021-08-05</th>\n",
              "      <td>121801.000000</td>\n",
              "      <td>123541.000000</td>\n",
              "      <td>121128.00000</td>\n",
              "      <td>121633.000000</td>\n",
              "      <td>121633.000000</td>\n",
              "      <td>10913000</td>\n",
              "    </tr>\n",
              "    <tr>\n",
              "      <th>2021-08-06</th>\n",
              "      <td>121633.000000</td>\n",
              "      <td>123287.000000</td>\n",
              "      <td>121568.00000</td>\n",
              "      <td>122810.000000</td>\n",
              "      <td>122810.000000</td>\n",
              "      <td>7499200</td>\n",
              "    </tr>\n",
              "    <tr>\n",
              "      <th>2021-08-09</th>\n",
              "      <td>122808.960938</td>\n",
              "      <td>123597.296875</td>\n",
              "      <td>122258.46875</td>\n",
              "      <td>123019.382812</td>\n",
              "      <td>123019.382812</td>\n",
              "      <td>0</td>\n",
              "    </tr>\n",
              "  </tbody>\n",
              "</table>\n",
              "</div>"
            ],
            "text/plain": [
              "                     Open           High           Low          Close  \\\n",
              "Date                                                                    \n",
              "2021-08-03  122516.000000  123765.000000  120807.00000  123577.000000   \n",
              "2021-08-04  123577.000000  123587.000000  121072.00000  121801.000000   \n",
              "2021-08-05  121801.000000  123541.000000  121128.00000  121633.000000   \n",
              "2021-08-06  121633.000000  123287.000000  121568.00000  122810.000000   \n",
              "2021-08-09  122808.960938  123597.296875  122258.46875  123019.382812   \n",
              "\n",
              "                Adj Close    Volume  \n",
              "Date                                 \n",
              "2021-08-03  123577.000000   9391300  \n",
              "2021-08-04  121801.000000   9164200  \n",
              "2021-08-05  121633.000000  10913000  \n",
              "2021-08-06  122810.000000   7499200  \n",
              "2021-08-09  123019.382812         0  "
            ]
          },
          "execution_count": 9,
          "metadata": {},
          "output_type": "execute_result"
        }
      ]
    },
    {
      "cell_type": "code",
      "metadata": {
        "id": "99915f6e",
        "outputId": "4e47ea44-82b0-4d0f-e859-e700983410ab"
      },
      "source": [
        "ibov['Close'].plot(figsize=(22,8))"
      ],
      "id": "99915f6e",
      "execution_count": null,
      "outputs": [
        {
          "data": {
            "text/plain": [
              "<AxesSubplot:xlabel='Date'>"
            ]
          },
          "execution_count": 11,
          "metadata": {},
          "output_type": "execute_result"
        },
        {
          "data": {
            "image/png": "[encoded data removed]",
            "text/plain": [
              "<Figure size 1584x576 with 1 Axes>"
            ]
          },
          "metadata": {
            "needs_background": "light"
          },
          "output_type": "display_data"
        }
      ]
    },
    {
      "cell_type": "code",
      "metadata": {
        "id": "b90d1b62"
      },
      "source": [
        ""
      ],
      "id": "b90d1b62",
      "execution_count": null,
      "outputs": []
    }
  ]
}